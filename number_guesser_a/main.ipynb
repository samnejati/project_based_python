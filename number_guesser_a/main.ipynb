{
 "cells": [
  {
   "cell_type": "markdown",
   "metadata": {},
   "source": [
    "## Hejazi Code:"
   ]
  },
  {
   "cell_type": "code",
   "execution_count": 2,
   "metadata": {},
   "outputs": [
    {
     "data": {
      "text/plain": [
       "22"
      ]
     },
     "execution_count": 2,
     "metadata": {},
     "output_type": "execute_result"
    }
   ],
   "source": [
    "import random\n",
    "rand_num = random.randint(1, 100)\n",
    "rand_num"
   ]
  },
  {
   "cell_type": "code",
   "execution_count": null,
   "metadata": {},
   "outputs": [],
   "source": []
  },
  {
   "cell_type": "code",
   "execution_count": 3,
   "metadata": {},
   "outputs": [],
   "source": []
  },
  {
   "cell_type": "markdown",
   "metadata": {},
   "source": [
    "### Possible Scenarios:\n",
    "- user gives an int number ==> 1 < user_guess < 100\n",
    "- int > 100\n",
    "- int < 1\n",
    "- non digit\n",
    "- q for quit"
   ]
  },
  {
   "cell_type": "code",
   "execution_count": 12,
   "metadata": {},
   "outputs": [
    {
     "name": "stdout",
     "output_type": "stream",
     "text": [
      "Your guess 50 is higher. Please try again\n",
      "Thank you for playing! goodbye\n"
     ]
    }
   ],
   "source": [
    "while True:\n",
    "    user_guess = input(\"Guess a number between 1 and 100: \")\n",
    "    if user_guess == 'q':\n",
    "      print(\"Thank you for playing! goodbye\")\n",
    "      break # if user_guess is 'q' we should btreak out of loop\n",
    "    elif not user_guess.isdigit():\n",
    "        print(\"Invalid input. Please try again. It should be a number\")\n",
    "        continue ## DOn't forget that this should continue. it was a wrong input-> gave message -> continue the loop\n",
    "    # else:  We don't need an else, since it checked all situations\n",
    "\n",
    "    user_guess = int(user_guess)\n",
    "    if user_guess > 100 or user_guess <  1:\n",
    "      print(\"You guess is out of range. Please try again! It shoul be a number between 1 and 100\")\n",
    "      continue \n",
    "    if rand_num > user_guess:\n",
    "      print(f\"Your guess {user_guess} is lower. Please try again\")\n",
    "    elif rand_num < user_guess:\n",
    "      print(f\"Your guess {user_guess} is higher. Please try again\")\n",
    "    else:\n",
    "      print(\"Congratulation. Your guess is correct!\")\n",
    "      break # don't forget to break the loop , so it will quite."
   ]
  },
  {
   "cell_type": "markdown",
   "metadata": {},
   "source": [
    "### The code version with scoring calculations:"
   ]
  },
  {
   "cell_type": "code",
   "execution_count": 15,
   "metadata": {},
   "outputs": [
    {
     "name": "stdout",
     "output_type": "stream",
     "text": [
      "Your guess 83 is higher. Please try again\n",
      "Congratulation. Your guess is correct!\n",
      "your score is 90\n"
     ]
    }
   ],
   "source": [
    "#attempts = 0 \n",
    "score = 100\n",
    "while True:\n",
    "    user_guess = input(\"Guess a number between 1 and 100: \")\n",
    "    if user_guess == 'q':\n",
    "      print(f\"Thank you for playing! Your Score is {score}. Goodbye!!!\")\n",
    "      break # if user_guess is 'q' we should btreak out of loop\n",
    "    elif not user_guess.isdigit():\n",
    "        print(\"Invalid input. Please try again. It should be a number\")\n",
    "        continue ## DOn't forget that this should continue. it was a wrong input-> gave message -> continue the loop\n",
    "    # else:  We don't need an else, since it checked all situations\n",
    "\n",
    "    user_guess = int(user_guess)\n",
    "    if user_guess > 100 or user_guess <  1:\n",
    "      print(\"You guess is out of range. Please try again! It shoul be a number between 1 and 100\")\n",
    "      continue \n",
    "    if rand_num > user_guess:\n",
    "      print(f\"Your guess {user_guess} is lower. Please try again\")\n",
    "    elif rand_num < user_guess:\n",
    "      print(f\"Your guess {user_guess} is higher. Please try again\")\n",
    "    else:\n",
    "      print(\"Congratulation. Your guess is correct!\")\n",
    "      print(f\"your score is {score}\")\n",
    "      break # don't forget to break the loop , so it will quite.\n",
    "\n",
    "    score -= 10 # in this block, it means the guess was not correct and player loses 10 points\n",
    "    score  = max(score, 0)"
   ]
  },
  {
   "cell_type": "markdown",
   "metadata": {},
   "source": [
    "#### Code modularized with validator in a different function!"
   ]
  },
  {
   "cell_type": "code",
   "execution_count": 18,
   "metadata": {},
   "outputs": [],
   "source": [
    "def validate_input(user_guess):\n",
    "    if not user_guess.isdigit():\n",
    "        print(\"Invalid input. Please try again. It should be a number\")\n",
    "        return False #since we are not in a loop, we won't use \"continue\"\n",
    "        \n",
    "        #continue ## DOn't forget that this should continue. it was a wrong input-> gave message -> continue the loop\n",
    "        # else:  We don't need an else, since it checked all situations\n",
    "\n",
    "    user_guess = int(user_guess)\n",
    "    if user_guess > 100 or user_guess <  1:\n",
    "        print(\"You guess is out of range. Please try again! It shoul be a number between 1 and 100\")\n",
    "        return False\n",
    "\n",
    "    return True"
   ]
  },
  {
   "cell_type": "code",
   "execution_count": 19,
   "metadata": {},
   "outputs": [
    {
     "name": "stdout",
     "output_type": "stream",
     "text": [
      "Your guess 85 is higher. Please try again\n",
      "Congratulation. Your guess is correct!\n",
      "your score is 90\n"
     ]
    }
   ],
   "source": [
    "#attempts = 0 \n",
    "score = 100\n",
    "while True:\n",
    "    user_guess = input(\"Guess a number between 1 and 100: \")\n",
    "    if user_guess == 'q':\n",
    "      print(f\"Thank you for playing! Your Score is {score}. Goodbye!!!\")\n",
    "      break # if user_guess is 'q' we should btreak out of loop\n",
    "    \n",
    "    #Using the above cell function\n",
    "    if not validate_input(user_guess): # if the input is not validated continue the loop\n",
    "        continue  \n",
    "    # after validating we convert it into an int\n",
    "    user_guess = int(user_guess)\n",
    "\n",
    "    if rand_num > user_guess:\n",
    "      print(f\"Your guess {user_guess} is lower. Please try again\")\n",
    "    elif rand_num < user_guess:\n",
    "      print(f\"Your guess {user_guess} is higher. Please try again\")\n",
    "    else:\n",
    "      print(\"Congratulation. Your guess is correct!\")\n",
    "      print(f\"your score is {score}\")\n",
    "      break # don't forget to break the loop , so it will quite.\n",
    "\n",
    "    score -= 10 # in this block, it means the guess was not correct and player loses 10 points\n",
    "    score  = max(score, 0)"
   ]
  },
  {
   "cell_type": "code",
   "execution_count": null,
   "metadata": {},
   "outputs": [],
   "source": []
  },
  {
   "cell_type": "code",
   "execution_count": null,
   "metadata": {},
   "outputs": [],
   "source": []
  },
  {
   "cell_type": "code",
   "execution_count": null,
   "metadata": {},
   "outputs": [],
   "source": []
  },
  {
   "cell_type": "code",
   "execution_count": null,
   "metadata": {},
   "outputs": [],
   "source": []
  },
  {
   "cell_type": "code",
   "execution_count": null,
   "metadata": {},
   "outputs": [],
   "source": []
  },
  {
   "cell_type": "code",
   "execution_count": null,
   "metadata": {},
   "outputs": [],
   "source": []
  },
  {
   "cell_type": "code",
   "execution_count": 1,
   "metadata": {},
   "outputs": [],
   "source": [
    "def num_validator(num):\n",
    "    \n",
    "    if not num.isdigit():\n",
    "        print(\"Not a number! Enter a digit: \")\n",
    "    return False\n",
    "\n",
    "    if int(num) < 1 or int(num) > 100:\n",
    "        print (\"number is not in range! your input number should be beween 1-100\")\n",
    "    return False\n",
    "\n",
    "    return True"
   ]
  },
  {
   "cell_type": "code",
   "execution_count": 2,
   "metadata": {},
   "outputs": [
    {
     "name": "stdout",
     "output_type": "stream",
     "text": [
      "Not a number! Enter a digit: \n"
     ]
    }
   ],
   "source": [
    "import random\n",
    "sectret_numb = random.randint(1,100)\n",
    "while True:\n",
    "    user_guess =  input(\"Enter your guess between 1-100: \")\n",
    "    if num_validator(user_guess) == False:\n",
    "        continue\n",
    "    \n",
    "    \n",
    "    if user_guess == sectret_numb:\n",
    "        print(\"Congrats you got it!!!\")\n",
    "        break\n",
    "    elif user_guess >= sectret_numb:\n",
    "        print(f\"Your guess {user_guess} is higher than the actual number! Try again\")\n",
    "    elif user_guess <= sectret_numb:\n",
    "        print(f\"Your guess {user_guess} is lower than the actual number! Try again\")\n",
    "    \n"
   ]
  },
  {
   "cell_type": "code",
   "execution_count": null,
   "metadata": {},
   "outputs": [],
   "source": [
    "num_validator(\"-1\")"
   ]
  },
  {
   "cell_type": "code",
   "execution_count": null,
   "metadata": {},
   "outputs": [],
   "source": []
  },
  {
   "cell_type": "code",
   "execution_count": null,
   "metadata": {},
   "outputs": [],
   "source": []
  },
  {
   "cell_type": "code",
   "execution_count": null,
   "metadata": {},
   "outputs": [],
   "source": []
  },
  {
   "cell_type": "code",
   "execution_count": null,
   "metadata": {},
   "outputs": [],
   "source": []
  },
  {
   "cell_type": "code",
   "execution_count": null,
   "metadata": {},
   "outputs": [],
   "source": []
  },
  {
   "cell_type": "code",
   "execution_count": null,
   "metadata": {},
   "outputs": [],
   "source": []
  },
  {
   "cell_type": "code",
   "execution_count": null,
   "metadata": {},
   "outputs": [],
   "source": [
    "import random\n",
    "\n",
    "secret_number = random.randint(1, 100)\n",
    "attempts = 0\n",
    "max_attempts = 5  # Set the maximum number of attempts\n",
    "\n",
    "while attempts < max_attempts:\n",
    "    user_guess = int(input(\"Enter your guess between 1-100: \"))\n",
    "    attempts += 1\n",
    "\n",
    "    if user_guess == secret_number:\n",
    "        print(\"Congrats you got it!\")\n",
    "        break\n",
    "    elif user_guess > secret_number:\n",
    "        print(\"Your guess is higher than the actual number! Try again\")\n",
    "    else:\n",
    "        print(\"Your guess is lower than the actual number! Try again\")\n",
    "\n",
    "if attempts >= max_attempts:\n",
    "    print(f\"Sorry, you've reached the maximum number of attempts. The correct number was {secret_number}.\")\n"
   ]
  },
  {
   "cell_type": "code",
   "execution_count": null,
   "metadata": {},
   "outputs": [],
   "source": [
    "import random\n",
    "number_guess = 0\n",
    "\n",
    "# Generate a random number between 1 and 100\n",
    "secret_number = random.randint(1, 100)\n",
    "\n",
    "# Initialize the number of guesses\n",
    "attempts = 0\n",
    "\n",
    "while True:\n",
    "    # Get the user's guess\n",
    "    user_guess = int(input(\"Guess the number between 1 and 100: \"))\n",
    "    attempts += 1\n",
    "\n",
    "    # Check if the guess is correct\n",
    "    if user_guess == secret_number:\n",
    "        print(f\"Congratulations! You guessed the number {secret_number} in {attempts} attempts.\")\n",
    "        break\n",
    "    elif user_guess < secret_number:\n",
    "        print(\"Try a higher number.\")\n",
    "    else:\n",
    "        print(\"Try a lower number\")\n"
   ]
  },
  {
   "cell_type": "code",
   "execution_count": null,
   "metadata": {},
   "outputs": [],
   "source": [
    "import random\n"
   ]
  },
  {
   "cell_type": "code",
   "execution_count": null,
   "metadata": {},
   "outputs": [],
   "source": []
  },
  {
   "cell_type": "code",
   "execution_count": null,
   "metadata": {},
   "outputs": [],
   "source": []
  },
  {
   "cell_type": "code",
   "execution_count": null,
   "metadata": {},
   "outputs": [],
   "source": []
  },
  {
   "cell_type": "code",
   "execution_count": null,
   "metadata": {},
   "outputs": [],
   "source": [
    "a =-2\n",
    "num_validator(a)"
   ]
  },
  {
   "cell_type": "code",
   "execution_count": null,
   "metadata": {},
   "outputs": [],
   "source": [
    "import random\n",
    "rand_num = random.randint(1,100)\n",
    "\n",
    "while True:\n",
    "    guess_num = int(input(\"guess a number between 1-100:\"))\n",
    "    if rand_num ==  guess_num:\n",
    "        print(\"Correct Guess! Congrats!\")\n",
    "        break\n",
    "    elif guess_num<rand_num:\n",
    "        print(\"low. go higher\")\n",
    "    else:\n",
    "        print(\"high! go lower.\")\n",
    "\n",
    "    \n"
   ]
  },
  {
   "cell_type": "code",
   "execution_count": null,
   "metadata": {},
   "outputs": [],
   "source": []
  }
 ],
 "metadata": {
  "kernelspec": {
   "display_name": "Python 3.9.6 64-bit",
   "language": "python",
   "name": "python3"
  },
  "language_info": {
   "codemirror_mode": {
    "name": "ipython",
    "version": 3
   },
   "file_extension": ".py",
   "mimetype": "text/x-python",
   "name": "python",
   "nbconvert_exporter": "python",
   "pygments_lexer": "ipython3",
   "version": "3.9.6"
  },
  "orig_nbformat": 4,
  "vscode": {
   "interpreter": {
    "hash": "31f2aee4e71d21fbe5cf8b01ff0e069b9275f58929596ceb00d14d90e3e16cd6"
   }
  }
 },
 "nbformat": 4,
 "nbformat_minor": 2
}
